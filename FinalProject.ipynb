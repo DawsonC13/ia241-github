{
 "cells": [
  {
   "cell_type": "markdown",
   "id": "0b94a49e",
   "metadata": {},
   "source": [
    "# Analyzing Covid-19 Data: Norway\n",
    "\n",
    "\n",
    "### What is Covid-19\n",
    "\n",
    "COVID-19 is a respiratory disease caused by SARS-CoV-2, a coronavirus discovered in 2019. The virus spreads mainly from person to person through respiratory droplets and small particles produced when an infected person coughs, sneezes, or talks. The virus spreads readily in crowded or poorly ventilated indoor settings. Illness can range from mild to severe, though not everyone infected with the virus develops symptoms. Adults 65 years and older and people of any age with underlying medical conditions are at higher risk for severe illness.\n",
    "\n",
    "\n",
    "### Authors\n",
    "\n",
    "Dawson Calvin and John Lohr"
   ]
  },
  {
   "cell_type": "markdown",
   "id": "f245b663",
   "metadata": {},
   "source": [
    "## Data Source\n",
    "\n",
    "The data used below was downloaded from the [European Centre for Disease Prevention and Control](https://www.ecdc.europa.eu/en/publications-data/download-todays-data-geographic-distribution-covid-19-cases-worldwide)\n"
   ]
  },
  {
   "cell_type": "code",
   "execution_count": 3,
   "id": "20dca38b",
   "metadata": {},
   "outputs": [
    {
     "name": "stdout",
     "output_type": "stream",
     "text": [
      "Looking in indexes: https://pypi.org/simple, https://pip.repos.neuron.amazonaws.com\n",
      "Collecting xlrd\n",
      "  Downloading xlrd-2.0.1-py2.py3-none-any.whl (96 kB)\n",
      "\u001b[2K     \u001b[90m━━━━━━━━━━━━━━━━━━━━━━━━━━━━━━━━━━━━━━━━\u001b[0m \u001b[32m96.5/96.5 kB\u001b[0m \u001b[31m4.3 MB/s\u001b[0m eta \u001b[36m0:00:00\u001b[0m\n",
      "\u001b[?25hInstalling collected packages: xlrd\n",
      "Successfully installed xlrd-2.0.1\n"
     ]
    }
   ],
   "source": [
    "%matplotlib inline\n",
    "import pandas\n",
    "!pip install xlrd"
   ]
  },
  {
   "cell_type": "markdown",
   "id": "ab4fa355",
   "metadata": {},
   "source": [
    "## Norway Covid-19 Data"
   ]
  },
  {
   "cell_type": "code",
   "execution_count": 5,
   "id": "5c626dda",
   "metadata": {},
   "outputs": [
    {
     "data": {
      "text/html": [
       "<div>\n",
       "<style scoped>\n",
       "    .dataframe tbody tr th:only-of-type {\n",
       "        vertical-align: middle;\n",
       "    }\n",
       "\n",
       "    .dataframe tbody tr th {\n",
       "        vertical-align: top;\n",
       "    }\n",
       "\n",
       "    .dataframe thead th {\n",
       "        text-align: right;\n",
       "    }\n",
       "</style>\n",
       "<table border=\"1\" class=\"dataframe\">\n",
       "  <thead>\n",
       "    <tr style=\"text-align: right;\">\n",
       "      <th></th>\n",
       "      <th>dateRep</th>\n",
       "      <th>day</th>\n",
       "      <th>month</th>\n",
       "      <th>year</th>\n",
       "      <th>cases</th>\n",
       "      <th>deaths</th>\n",
       "      <th>countriesAndTerritories</th>\n",
       "      <th>geoId</th>\n",
       "      <th>countryterritoryCode</th>\n",
       "      <th>popData2019</th>\n",
       "      <th>continentExp</th>\n",
       "      <th>Cumulative_number_for_14_days_of_COVID-19_cases_per_100000</th>\n",
       "    </tr>\n",
       "  </thead>\n",
       "  <tbody>\n",
       "    <tr>\n",
       "      <th>42617</th>\n",
       "      <td>14/12/2020</td>\n",
       "      <td>14</td>\n",
       "      <td>12</td>\n",
       "      <td>2020</td>\n",
       "      <td>0</td>\n",
       "      <td>0</td>\n",
       "      <td>Norway</td>\n",
       "      <td>NO</td>\n",
       "      <td>NOR</td>\n",
       "      <td>5328212.0</td>\n",
       "      <td>Europe</td>\n",
       "      <td>99.001316</td>\n",
       "    </tr>\n",
       "    <tr>\n",
       "      <th>42618</th>\n",
       "      <td>13/12/2020</td>\n",
       "      <td>13</td>\n",
       "      <td>12</td>\n",
       "      <td>2020</td>\n",
       "      <td>0</td>\n",
       "      <td>0</td>\n",
       "      <td>Norway</td>\n",
       "      <td>NO</td>\n",
       "      <td>NOR</td>\n",
       "      <td>5328212.0</td>\n",
       "      <td>Europe</td>\n",
       "      <td>99.001316</td>\n",
       "    </tr>\n",
       "    <tr>\n",
       "      <th>42619</th>\n",
       "      <td>2020-12-12 00:00:00</td>\n",
       "      <td>12</td>\n",
       "      <td>12</td>\n",
       "      <td>2020</td>\n",
       "      <td>498</td>\n",
       "      <td>5</td>\n",
       "      <td>Norway</td>\n",
       "      <td>NO</td>\n",
       "      <td>NOR</td>\n",
       "      <td>5328212.0</td>\n",
       "      <td>Europe</td>\n",
       "      <td>99.001316</td>\n",
       "    </tr>\n",
       "    <tr>\n",
       "      <th>42620</th>\n",
       "      <td>2020-11-12 00:00:00</td>\n",
       "      <td>11</td>\n",
       "      <td>12</td>\n",
       "      <td>2020</td>\n",
       "      <td>362</td>\n",
       "      <td>21</td>\n",
       "      <td>Norway</td>\n",
       "      <td>NO</td>\n",
       "      <td>NOR</td>\n",
       "      <td>5328212.0</td>\n",
       "      <td>Europe</td>\n",
       "      <td>98.663492</td>\n",
       "    </tr>\n",
       "    <tr>\n",
       "      <th>42621</th>\n",
       "      <td>2020-10-12 00:00:00</td>\n",
       "      <td>10</td>\n",
       "      <td>12</td>\n",
       "      <td>2020</td>\n",
       "      <td>459</td>\n",
       "      <td>0</td>\n",
       "      <td>Norway</td>\n",
       "      <td>NO</td>\n",
       "      <td>NOR</td>\n",
       "      <td>5328212.0</td>\n",
       "      <td>Europe</td>\n",
       "      <td>102.248184</td>\n",
       "    </tr>\n",
       "    <tr>\n",
       "      <th>...</th>\n",
       "      <td>...</td>\n",
       "      <td>...</td>\n",
       "      <td>...</td>\n",
       "      <td>...</td>\n",
       "      <td>...</td>\n",
       "      <td>...</td>\n",
       "      <td>...</td>\n",
       "      <td>...</td>\n",
       "      <td>...</td>\n",
       "      <td>...</td>\n",
       "      <td>...</td>\n",
       "      <td>...</td>\n",
       "    </tr>\n",
       "    <tr>\n",
       "      <th>42962</th>\n",
       "      <td>2020-04-01 00:00:00</td>\n",
       "      <td>4</td>\n",
       "      <td>1</td>\n",
       "      <td>2020</td>\n",
       "      <td>0</td>\n",
       "      <td>0</td>\n",
       "      <td>Norway</td>\n",
       "      <td>NO</td>\n",
       "      <td>NOR</td>\n",
       "      <td>5328212.0</td>\n",
       "      <td>Europe</td>\n",
       "      <td>NaN</td>\n",
       "    </tr>\n",
       "    <tr>\n",
       "      <th>42963</th>\n",
       "      <td>2020-03-01 00:00:00</td>\n",
       "      <td>3</td>\n",
       "      <td>1</td>\n",
       "      <td>2020</td>\n",
       "      <td>0</td>\n",
       "      <td>0</td>\n",
       "      <td>Norway</td>\n",
       "      <td>NO</td>\n",
       "      <td>NOR</td>\n",
       "      <td>5328212.0</td>\n",
       "      <td>Europe</td>\n",
       "      <td>NaN</td>\n",
       "    </tr>\n",
       "    <tr>\n",
       "      <th>42964</th>\n",
       "      <td>2020-02-01 00:00:00</td>\n",
       "      <td>2</td>\n",
       "      <td>1</td>\n",
       "      <td>2020</td>\n",
       "      <td>0</td>\n",
       "      <td>0</td>\n",
       "      <td>Norway</td>\n",
       "      <td>NO</td>\n",
       "      <td>NOR</td>\n",
       "      <td>5328212.0</td>\n",
       "      <td>Europe</td>\n",
       "      <td>NaN</td>\n",
       "    </tr>\n",
       "    <tr>\n",
       "      <th>42965</th>\n",
       "      <td>2020-01-01 00:00:00</td>\n",
       "      <td>1</td>\n",
       "      <td>1</td>\n",
       "      <td>2020</td>\n",
       "      <td>0</td>\n",
       "      <td>0</td>\n",
       "      <td>Norway</td>\n",
       "      <td>NO</td>\n",
       "      <td>NOR</td>\n",
       "      <td>5328212.0</td>\n",
       "      <td>Europe</td>\n",
       "      <td>NaN</td>\n",
       "    </tr>\n",
       "    <tr>\n",
       "      <th>42966</th>\n",
       "      <td>31/12/2019</td>\n",
       "      <td>31</td>\n",
       "      <td>12</td>\n",
       "      <td>2019</td>\n",
       "      <td>0</td>\n",
       "      <td>0</td>\n",
       "      <td>Norway</td>\n",
       "      <td>NO</td>\n",
       "      <td>NOR</td>\n",
       "      <td>5328212.0</td>\n",
       "      <td>Europe</td>\n",
       "      <td>NaN</td>\n",
       "    </tr>\n",
       "  </tbody>\n",
       "</table>\n",
       "<p>350 rows × 12 columns</p>\n",
       "</div>"
      ],
      "text/plain": [
       "                   dateRep  day  month  year  cases  deaths  \\\n",
       "42617           14/12/2020   14     12  2020      0       0   \n",
       "42618           13/12/2020   13     12  2020      0       0   \n",
       "42619  2020-12-12 00:00:00   12     12  2020    498       5   \n",
       "42620  2020-11-12 00:00:00   11     12  2020    362      21   \n",
       "42621  2020-10-12 00:00:00   10     12  2020    459       0   \n",
       "...                    ...  ...    ...   ...    ...     ...   \n",
       "42962  2020-04-01 00:00:00    4      1  2020      0       0   \n",
       "42963  2020-03-01 00:00:00    3      1  2020      0       0   \n",
       "42964  2020-02-01 00:00:00    2      1  2020      0       0   \n",
       "42965  2020-01-01 00:00:00    1      1  2020      0       0   \n",
       "42966           31/12/2019   31     12  2019      0       0   \n",
       "\n",
       "      countriesAndTerritories geoId countryterritoryCode  popData2019  \\\n",
       "42617                  Norway    NO                  NOR    5328212.0   \n",
       "42618                  Norway    NO                  NOR    5328212.0   \n",
       "42619                  Norway    NO                  NOR    5328212.0   \n",
       "42620                  Norway    NO                  NOR    5328212.0   \n",
       "42621                  Norway    NO                  NOR    5328212.0   \n",
       "...                       ...   ...                  ...          ...   \n",
       "42962                  Norway    NO                  NOR    5328212.0   \n",
       "42963                  Norway    NO                  NOR    5328212.0   \n",
       "42964                  Norway    NO                  NOR    5328212.0   \n",
       "42965                  Norway    NO                  NOR    5328212.0   \n",
       "42966                  Norway    NO                  NOR    5328212.0   \n",
       "\n",
       "      continentExp  Cumulative_number_for_14_days_of_COVID-19_cases_per_100000  \n",
       "42617       Europe                                          99.001316           \n",
       "42618       Europe                                          99.001316           \n",
       "42619       Europe                                          99.001316           \n",
       "42620       Europe                                          98.663492           \n",
       "42621       Europe                                         102.248184           \n",
       "...            ...                                                ...           \n",
       "42962       Europe                                                NaN           \n",
       "42963       Europe                                                NaN           \n",
       "42964       Europe                                                NaN           \n",
       "42965       Europe                                                NaN           \n",
       "42966       Europe                                                NaN           \n",
       "\n",
       "[350 rows x 12 columns]"
      ]
     },
     "execution_count": 5,
     "metadata": {},
     "output_type": "execute_result"
    }
   ],
   "source": [
    "df = pandas.read_excel('s3://calvin-241-python-s3/covid_data.xls')\n",
    "norway_data=df.loc[df['countriesAndTerritories']=='Norway']\n",
    "norway_data[:]"
   ]
  },
  {
   "cell_type": "markdown",
   "id": "24776051",
   "metadata": {},
   "source": [
    "## Question 1: Total Number of Cases in Norway"
   ]
  },
  {
   "cell_type": "code",
   "execution_count": 6,
   "id": "b75428a2",
   "metadata": {
    "scrolled": true
   },
   "outputs": [
    {
     "name": "stderr",
     "output_type": "stream",
     "text": [
      "/tmp/ipykernel_9432/249329646.py:1: FutureWarning: The default value of numeric_only in DataFrame.sum is deprecated. In a future version, it will default to False. In addition, specifying 'numeric_only=None' is deprecated. Select only valid columns or specify the value of numeric_only to silence this warning.\n",
      "  norway_data.sum()['cases']\n"
     ]
    },
    {
     "data": {
      "text/plain": [
       "40022"
      ]
     },
     "execution_count": 6,
     "metadata": {},
     "output_type": "execute_result"
    }
   ],
   "source": [
    "norway_data.sum()['cases']"
   ]
  },
  {
   "cell_type": "markdown",
   "id": "aaef4fa2",
   "metadata": {},
   "source": [
    "### Explanation of Calculation\n",
    "\n",
    "In this line of code, we described the total number of Covid-19 cases in Norway at the end of 2020. It totals the number of recorded cases from the \"cases\" column in the data set."
   ]
  },
  {
   "cell_type": "markdown",
   "id": "c50928fc",
   "metadata": {},
   "source": [
    " ## Question 2: What Month Had The Highest Number of Covid-19 Cases in Norway"
   ]
  },
  {
   "cell_type": "code",
   "execution_count": 12,
   "id": "8077ec27",
   "metadata": {},
   "outputs": [
    {
     "name": "stderr",
     "output_type": "stream",
     "text": [
      "/tmp/ipykernel_9432/135974414.py:1: FutureWarning: The default value of numeric_only in DataFrameGroupBy.sum is deprecated. In a future version, numeric_only will default to False. Either specify numeric_only or select only columns which should be valid for the function.\n",
      "  norway_cases=norway_data.groupby('month').sum()['cases']\n"
     ]
    },
    {
     "data": {
      "text/plain": [
       "<AxesSubplot: xlabel='month'>"
      ]
     },
     "execution_count": 12,
     "metadata": {},
     "output_type": "execute_result"
    },
    {
     "data": {
      "image/png": "[encoded data removed]",
      "text/plain": [
       "<Figure size 640x480 with 1 Axes>"
      ]
     },
     "metadata": {},
     "output_type": "display_data"
    }
   ],
   "source": [
    "norway_cases=norway_data.groupby('month').sum()['cases']\n",
    "norway_cases.nsmallest(12).plot.bar()"
   ]
  },
  {
   "cell_type": "markdown",
   "id": "4437156d",
   "metadata": {},
   "source": [
    "### Explanation of Calculations\n",
    "\n",
    "We used a bar chart to show which month had the highest number of Covid-19 cases. We ordered them from least to most number of cases by month. The y-axis represents the number of Covid-19 cases and the x-axis represents each months of 2020 from January to December."
   ]
  },
  {
   "cell_type": "markdown",
   "id": "68e01ec5",
   "metadata": {},
   "source": [
    "### Interpretation of Visualization\n",
    "\n",
    "There were zero reported Covid-19 cases until March of 2020 with the number of cases progressively increasing as the year went on. The highest number of cases recorded in 2020 occured during November with over 14,000 cases. There was a dip in Covid-19 cases after March and started to rise again in July."
   ]
  },
  {
   "cell_type": "markdown",
   "id": "eace124a",
   "metadata": {},
   "source": [
    "## Question 3: How Many Deaths Were There in Comparison To The Number of Covid-19 Cases Per Month In 2020"
   ]
  },
  {
   "cell_type": "code",
   "execution_count": 15,
   "id": "b7588d00",
   "metadata": {},
   "outputs": [
    {
     "data": {
      "text/plain": [
       "<AxesSubplot: xlabel='cases', ylabel='deaths'>"
      ]
     },
     "execution_count": 15,
     "metadata": {},
     "output_type": "execute_result"
    },
    {
     "data": {
      "image/png": "[encoded data removed]",
      "text/plain": [
       "<Figure size 640x480 with 2 Axes>"
      ]
     },
     "metadata": {},
     "output_type": "display_data"
    }
   ],
   "source": [
    "norway_data.plot.scatter(x='cases', y='deaths', c='month')"
   ]
  },
  {
   "cell_type": "markdown",
   "id": "13197a5c",
   "metadata": {},
   "source": [
    "### Explanation of Calculations\n",
    "\n",
    "This line of code represents the number of deaths compared to the month in which the cases were reported during 2020. The \n",
    "y-axis shows the amount of deaths and the x-axis represents the number of Covid-19 cases. On the far right, the months from January to December 2020 is recorded and the lighter the dot, the earlier the month in 2020 and the darker the dot, the later the month in 2020."
   ]
  },
  {
   "cell_type": "markdown",
   "id": "a784d260",
   "metadata": {},
   "source": [
    "### Interpretation of Visualization\n",
    "\n",
    "The scatter plot shows that the earlier the month in 2020 that you contracted Covid-19, you were significantly more likely to die from it. The later the months, the number of cases increased as 2020 progressed, but the deaths were relatively low. There were 2 outliers from the months of October to December that recorded more than 15 deaths. The mean deaths was less than 5 per month in comparison to the amount of cases which had a mean of 350 per month. We concluded that the number of deaths in the early months of 2020 can be attributed to the lack of a standardized treatment and knowledge of Covid-19. The first Covid-19 vaccine was not approved until Febuary of 2021.\n",
    "\n",
    "[FDA Approves First COVID-19 Vaccine](https://www.fda.gov/news-events/press-announcements/fda-approves-first-covid-19-vaccine)"
   ]
  },
  {
   "cell_type": "markdown",
   "id": "1249a0a9",
   "metadata": {},
   "source": [
    "## Limitations\n",
    "\n",
    "The European Centre for Disease Prevention and Control only reported documented cases of Covid-19 at the national level. There were also plenty of Covid-19 cases that were attributed to other illnesses at the beginning of 2020 that could have skewed the data in a more negative way. There were also a number of people who were asymptomatic and did not get tested or report having Covid-19 which could have caused a significant gap in the reported data."
   ]
  },
  {
   "cell_type": "markdown",
   "id": "6ba7f63b",
   "metadata": {},
   "source": [
    "### Conclusion\n",
    "\n",
    "In conclusion, when analyzing the Covid-19 data from Norway, it is seen that the amount of cases were significantly lower in Norway in comparison to other European countries meaning that Norway was much more successful when dealing with Covid-19. The number of cases were significantly higher in the later months of 2020, but the number of deaths were higher in the earlier months which is due to the fact that Covid-19 was a new issue and there was no standardized treatment plan. When treatment plans were introduced in 2021, it is likely that the number of cases and deaths are going to decrease. "
   ]
  },
  {
   "cell_type": "code",
   "execution_count": null,
   "id": "110d99e6",
   "metadata": {},
   "outputs": [],
   "source": []
  }
 ],
 "metadata": {
  "kernelspec": {
   "display_name": "conda_python3",
   "language": "python",
   "name": "conda_python3"
  },
  "language_info": {
   "codemirror_mode": {
    "name": "ipython",
    "version": 3
   },
   "file_extension": ".py",
   "mimetype": "text/x-python",
   "name": "python",
   "nbconvert_exporter": "python",
   "pygments_lexer": "ipython3",
   "version": "3.10.8"
  }
 },
 "nbformat": 4,
 "nbformat_minor": 5
}
